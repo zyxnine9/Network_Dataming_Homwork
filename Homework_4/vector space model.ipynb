{
 "cells": [
  {
   "cell_type": "code",
   "execution_count": 1,
   "metadata": {},
   "outputs": [],
   "source": [
    "from sklearn.feature_extraction.text import TfidfVectorizer\n",
    "from sklearn.metrics.pairwise import cosine_similarity\n",
    "import os"
   ]
  },
  {
   "cell_type": "code",
   "execution_count": 2,
   "metadata": {},
   "outputs": [],
   "source": [
    "class Vector_search(object):\n",
    "    __docs_path = '../data/'\n",
    "    __doc_index_path = '../result/index.txt'\n",
    "    __doc_index2path = {}\n",
    "    __docs = []\n",
    "\n",
    "    \n",
    "    def __init__(self):\n",
    "        with open(self.__doc_index_path) as f:\n",
    "            line = f.readline()\n",
    "            while(len(line) is not 0):\n",
    "                infos = line.split('\\t')\n",
    "                self.__doc_index2path[infos[0]] = infos[1].replace('\\n','')\n",
    "                line = f.readline()\n",
    "        \n",
    "        files = self.__doc_index2path.keys()\n",
    "        for key in files:\n",
    "            with open(self.__doc_index2path[key],'r') as f:\n",
    "                self.__docs.append(f.read().lower())\n",
    "                \n",
    "                \n",
    "    def search_rank(self, query):\n",
    "        tfidf = TfidfVectorizer(min_df=0, max_df=1.)\n",
    "        docs = tfidf.fit_transform(self.__docs)\n",
    "        query = tfidf.transform([query.lower()])\n",
    "        \n",
    "        cosine = cosine_similarity(query, docs)\n",
    "        result = cosine.argsort().tolist()[0]\n",
    "        result.reverse()\n",
    "        print(\"The search rank is {}\".format(result))\n",
    "        self.__print_result(result)\n",
    "        \n",
    "        \n",
    "    def __print_result(self, result):\n",
    "        for doc_index in result:\n",
    "            doc_path = self.__doc_index2path[str(doc_index)]\n",
    "            with open(doc_path, 'r') as f:\n",
    "                print(\"The file index is {} \\n path is {}\".format(doc_index, doc_path))\n",
    "                print(f.read())\n",
    "                print(\"===========================这是分割线======================\")\n",
    "                print()"
   ]
  },
  {
   "cell_type": "code",
   "execution_count": 3,
   "metadata": {},
   "outputs": [],
   "source": [
    "a = Vector_search()"
   ]
  },
  {
   "cell_type": "code",
   "execution_count": 4,
   "metadata": {},
   "outputs": [
    {
     "name": "stdout",
     "output_type": "stream",
     "text": [
      "The search rank is [3, 5, 4, 2, 1, 0]\n",
      "The file index is 3 \n",
      " path is ../data/sports3.txt\n",
      "Records are kept and updated for most sports at the highest levels, while failures and accomplishments are widely announced in sport news. Sports are most often played just for fun or for the simple fact that people need exercise to stay in good physical condition. However, professional sport is a major source of entertainment.\n",
      "===========================这是分割线======================\n",
      "\n",
      "The file index is 5 \n",
      " path is ../data/sports1.txt\n",
      "A sport is an organized, competitive, entertaining, and skillful activity requiring commitment, strategy, and fair play, in which a winner can be defined by objective means. It is governed by a set of rules or customs. Activities such as card games and board games, are classified as \"mind sports\" and some are recognized as Olympic sports[citation needed], requiring primarily mental skills and mental physical involvement. Non-competitive activities, for example as jogging or playing catch are usually classified as forms of recreation.\n",
      "===========================这是分割线======================\n",
      "\n",
      "The file index is 4 \n",
      " path is ../data/sports2.txt\n",
      "Physical events such as scoring goals or crossing a line first often define the result of a sport. However, the degree of skill and performance in some sports such as diving, dressage and figure skating is judged according to well-defined criteria. This is in contrast with other judged activities such as beauty pageants and body building, where skill does not have to be shown and the criteria are not as well defined.\n",
      "===========================这是分割线======================\n",
      "\n",
      "The file index is 2 \n",
      " path is ../data/math2.txt\n",
      "Through the use of abstraction and logical reasoning, mathematics evolved from counting, calculation, measurement, and the systematic study of the shapes and motions of physical objects. Practical mathematics has been a human activity for as far back as written records exist. Rigorous arguments first appeared in Greek mathematics, most notably in Euclid's Elements. Mathematics continued to develop, for example in China in 300 BC, in India in AD 100, and in the Muslim world in AD 800, until the Renaissance, when mathematical innovations interacting with new scientific discoveries led to a rapid increase in the rate of mathematical discovery that continues to the present day.[5]\n",
      "===========================这是分割线======================\n",
      "\n",
      "The file index is 1 \n",
      " path is ../data/math3.txt\n",
      "There is debate over whether mathematical objects such as numbers and points exist naturally or are human creations. The mathematician Benjamin Peirce called mathematics \"the science that draws necessary conclusions\".[6] Albert Einstein, on the other hand, stated that \"as far as the laws of mathematics refer to reality, they are not certain; and as far as they are certain, they do not refer to reality.\"[7]\n",
      "===========================这是分割线======================\n",
      "\n",
      "The file index is 0 \n",
      " path is ../data/math1.txt\n",
      "Mathematics is the study of quantity, structure, space, and change. Mathematicians seek out patterns,[2][3] formulate new conjectures, and establish truth by rigorous deduction from appropriately chosen axioms and definitions.[4]\n",
      "===========================这是分割线======================\n",
      "\n"
     ]
    }
   ],
   "source": [
    "a.search_rank('sports news')"
   ]
  }
 ],
 "metadata": {
  "kernelspec": {
   "display_name": "Python 3",
   "language": "python",
   "name": "python3"
  },
  "language_info": {
   "codemirror_mode": {
    "name": "ipython",
    "version": 3
   },
   "file_extension": ".py",
   "mimetype": "text/x-python",
   "name": "python",
   "nbconvert_exporter": "python",
   "pygments_lexer": "ipython3",
   "version": "3.6.4"
  }
 },
 "nbformat": 4,
 "nbformat_minor": 2
}
