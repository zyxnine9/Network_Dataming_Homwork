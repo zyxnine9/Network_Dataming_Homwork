{
 "cells": [
  {
   "cell_type": "markdown",
   "metadata": {},
   "source": [
    "# 倒排索引"
   ]
  },
  {
   "cell_type": "markdown",
   "metadata": {},
   "source": [
    "导入所需要的模块<br>\n",
    "这里用的是 os 模块，来对文件进行读写操作"
   ]
  },
  {
   "cell_type": "code",
   "execution_count": 1,
   "metadata": {},
   "outputs": [],
   "source": [
    "import os"
   ]
  },
  {
   "cell_type": "markdown",
   "metadata": {},
   "source": [
    "创建文件夹 ***result*** 来存储操作后的结果<br>\n",
    "如果文件夹已经存在的话，就使用改文件夹"
   ]
  },
  {
   "cell_type": "code",
   "execution_count": 2,
   "metadata": {},
   "outputs": [],
   "source": [
    "os.makedirs('../result/', exist_ok=True)"
   ]
  },
  {
   "cell_type": "markdown",
   "metadata": {},
   "source": [
    "## 对文件进行标号\n",
    "定义一个函数 ***scanner*** ,参数是 ***文件夹路径***<br>"
   ]
  },
  {
   "cell_type": "code",
   "execution_count": 5,
   "metadata": {},
   "outputs": [],
   "source": [
    "def scanner(path):\n",
    "    \n",
    "    files = os.listdir(path)\n",
    "    #用该函数，读取path目录下的所有的文件夹和文件的文件名，将结果存入 files 中\n",
    "    \n",
    "    files =  files[1:]\n",
    "\n",
    "    pathes = []\n",
    "    #申明一个数组储存文件路径\n",
    "    \n",
    "    for file in files:\n",
    "        pathes.append(os.path.join(path,file))\n",
    "        #储存文件路径\n",
    "        \n",
    "    return pathes"
   ]
  },
  {
   "cell_type": "code",
   "execution_count": 6,
   "metadata": {},
   "outputs": [
    {
     "name": "stdout",
     "output_type": "stream",
     "text": [
      "../data/math1.txt\n",
      "../data/math3.txt\n",
      "../data/math2.txt\n",
      "../data/sports3.txt\n",
      "../data/sports2.txt\n",
      "../data/sports1.txt\n"
     ]
    }
   ],
   "source": [
    "filePath = '../data'\n",
    "\n",
    "pathes = scanner(filePath)\n",
    "for i in pathes:\n",
    "    #查看文件路径\n",
    "    print(i)"
   ]
  },
  {
   "cell_type": "code",
   "execution_count": 5,
   "metadata": {},
   "outputs": [],
   "source": [
    "with open ('../result/index.txt','w') as f:\n",
    "    for key,value in enumerate(pathes):\n",
    "        f.write(\"{}\\t{}\\n\".format(key,value))\n",
    "        \n",
    "        #将文件的 索引， 路径写入 index.txt 文件"
   ]
  },
  {
   "cell_type": "markdown",
   "metadata": {},
   "source": [
    "## 进行倒排索引\n",
    "用 ***index*** 来表示当前索引文件的序号，用 ***result*** 来存结果"
   ]
  },
  {
   "cell_type": "code",
   "execution_count": 6,
   "metadata": {},
   "outputs": [],
   "source": [
    "index = 0\n",
    "result = {}\n",
    "\n",
    "for file in pathes:\n",
    "    with open(file,'r') as f:\n",
    "        #读文件,去除文件中的数字，引号，句号，方括号\n",
    "        text = f.read().replace(\",\",\"\").replace(\"[\",\"\").replace(\"]\",\"\")\\\n",
    "        .replace(\"\\\"\",\"\").replace(\".\",\"\").replace(\"0\",\"\").replace(\"1\",\"\")\\\n",
    "        .replace(\"2\",\"\").replace(\"3\",\"\").replace(\"4\",\"\").replace(\"5\",\"\")\\\n",
    "        .replace(\"6\",\"\").replace(\"7\",\"\").replace(\"8\",\"\").replace(\"9\",\"\")\n",
    "        \n",
    "        #把每个文本变成数组\n",
    "        text = text.split(\" \")\n",
    "        \n",
    "        #把结果存入 result\n",
    "        for word in text:\n",
    "            \n",
    "            #统一大小写\n",
    "            word = word.lower()\n",
    "            \n",
    "            #如果单词已经存在与result中，向对应的 list 中添加一个索引\n",
    "            if word  in list(result.keys()):\n",
    "                result[word].append(index)\n",
    "                \n",
    "            #如果单词不存在的话，建立一个 word-list 的键值对\n",
    "            else:\n",
    "                result[word] = [index]\n",
    "            #一个单词读写完毕\n",
    "            \n",
    "    #一个文本文件读写完毕,index加一，读下一个文件\n",
    "    index += 1\n",
    "        \n",
    "        \n",
    "#结果写入result.txt文件中\n",
    "with open('../result/result.txt','w') as r:\n",
    "    for word in result:\n",
    "        r.write('{}\\t{}\\n'.format(word,result[word]))"
   ]
  },
  {
   "cell_type": "markdown",
   "metadata": {},
   "source": [
    "## 结果\n",
    "<div style=\"margin-left:auto;margin-right:auto;width:50%\">\n",
    "    <br>\n",
    "    <p>index.txt</p>\n",
    "    <img src=\"./index.png\">\n",
    "</div>\n",
    "<div style=\"margin-left:auto;margin-right:auto;width:50%\">\n",
    "    <br>\n",
    "    <p>result.txt</p>\n",
    "    <img src=\"./result.png\">\n",
    "</div>"
   ]
  }
 ],
 "metadata": {
  "kernelspec": {
   "display_name": "Python 3",
   "language": "python",
   "name": "python3"
  },
  "language_info": {
   "codemirror_mode": {
    "name": "ipython",
    "version": 3
   },
   "file_extension": ".py",
   "mimetype": "text/x-python",
   "name": "python",
   "nbconvert_exporter": "python",
   "pygments_lexer": "ipython3",
   "version": "3.6.4"
  }
 },
 "nbformat": 4,
 "nbformat_minor": 2
}
