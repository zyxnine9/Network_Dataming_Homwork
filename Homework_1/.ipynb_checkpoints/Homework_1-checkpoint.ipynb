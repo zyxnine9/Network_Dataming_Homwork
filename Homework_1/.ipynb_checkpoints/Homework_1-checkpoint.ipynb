{
 "cells": [
  {
   "cell_type": "markdown",
   "metadata": {},
   "source": [
    "# 需要用到的库\n",
    "requests库用于请求html<br>\n",
    "BeautfiSoup解析html"
   ]
  },
  {
   "cell_type": "code",
   "execution_count": 1,
   "metadata": {},
   "outputs": [],
   "source": [
    "from bs4 import BeautifulSoup\n",
    "import requests\n",
    "import re"
   ]
  },
  {
   "cell_type": "markdown",
   "metadata": {},
   "source": [
    "# 函数定义\n",
    "用requests库得到html文档<br>\n",
    "用BeautifulSoup解析html文档，并得到 类为 ‘bs4.element.ResultSet' 的对象结果"
   ]
  },
  {
   "cell_type": "code",
   "execution_count": 2,
   "metadata": {},
   "outputs": [],
   "source": [
    "def get_html(url):\n",
    "    response = requests.get(url)\n",
    "    html = response.text\n",
    "    return html"
   ]
  },
  {
   "cell_type": "code",
   "execution_count": 3,
   "metadata": {},
   "outputs": [],
   "source": [
    "def parse_html(html):\n",
    "    soup = BeautifulSoup(html, 'lxml')\n",
    "    picUrls = soup.find_all('a','wrap-img')\n",
    "    return picUrls"
   ]
  },
  {
   "cell_type": "markdown",
   "metadata": {},
   "source": [
    "# 确定爬取页面\n",
    "这里只爬取一个页面的内容<br>\n",
    "我选择 **简书首页** 作为爬取的目标网页<br>\n",
    "爬取首页的图片"
   ]
  },
  {
   "cell_type": "code",
   "execution_count": 4,
   "metadata": {},
   "outputs": [],
   "source": [
    "#爬虫入口（单个页面爬取入不入口其实无所谓）\n",
    "url = 'https://www.jianshu.com/'\n",
    "\n",
    "html = get_html(url)\n",
    "imgs = parse_html(html)\n",
    "\n",
    "#用来存结果的list\n",
    "urls = []"
   ]
  },
  {
   "cell_type": "markdown",
   "metadata": {},
   "source": [
    "# 得到图片链接\n",
    "<br> \n",
    "**tag**，**ResultSet** 是 BeautifulSoup 中的对象，详细可见[官方文档](https://www.crummy.com/software/BeautifulSoup/bs4/doc/index.zh.html#find-all)"
   ]
  },
  {
   "cell_type": "code",
   "execution_count": 8,
   "metadata": {},
   "outputs": [],
   "source": [
    "for tag in imgs:\n",
    "    #得到ResultSet中的tag\n",
    "    \n",
    "    img = tag.find_all('img')\n",
    "    #得到img标签\n",
    "    \n",
    "    for src in img:\n",
    "        #得到src中，图片的url\n",
    "        \n",
    "        url = src['src']\n",
    "        urls.append('https:'+url)"
   ]
  },
  {
   "cell_type": "markdown",
   "metadata": {},
   "source": [
    "<h3>以下是一些url</h3>"
   ]
  },
  {
   "cell_type": "code",
   "execution_count": 6,
   "metadata": {},
   "outputs": [
    {
     "data": {
      "text/plain": [
       "['https://upload-images.jianshu.io/upload_images/7523860-d6b51e840dc53354.jpg?imageMogr2/auto-orient/strip|imageView2/1/w/150/h/120',\n",
       " 'https://upload-images.jianshu.io/upload_images/6326746-03df27a80298e1ec.jpg?imageMogr2/auto-orient/strip|imageView2/1/w/150/h/120',\n",
       " 'https://upload-images.jianshu.io/upload_images/7523860-b9b7524226e864b4.jpg?imageMogr2/auto-orient/strip|imageView2/1/w/150/h/120']"
      ]
     },
     "execution_count": 6,
     "metadata": {},
     "output_type": "execute_result"
    }
   ],
   "source": [
    "urls[:3]"
   ]
  },
  {
   "cell_type": "markdown",
   "metadata": {},
   "source": [
    "# 存储图片"
   ]
  },
  {
   "cell_type": "code",
   "execution_count": 7,
   "metadata": {},
   "outputs": [],
   "source": [
    "import os \n",
    "os.makedirs('./img/', exist_ok=True)\n",
    "#用 os 模块新建一个img文件夹，如果存在的话就直接使用已经存在的文件夹\n",
    "\n",
    "for i in range(len(urls)):\n",
    "    r = requests.get(urls[i])\n",
    "    #用requests库得到图片\n",
    "    \n",
    "    description = 'picture-{}'.format(i)+'.jpg'\n",
    "    with open('./img/%s'%description,'wb') as f:\n",
    "        f.write(r.content)\n",
    "    "
   ]
  },
  {
   "cell_type": "markdown",
   "metadata": {},
   "source": [
    "# 运行结果\n",
    "爬了一点点图片，没有使用异步加载继续爬取，将就将就就完成了<br>\n",
    "![result](./result.png)"
   ]
  }
 ],
 "metadata": {
  "kernelspec": {
   "display_name": "Python 3",
   "language": "python",
   "name": "python3"
  },
  "language_info": {
   "codemirror_mode": {
    "name": "ipython",
    "version": 3
   },
   "file_extension": ".py",
   "mimetype": "text/x-python",
   "name": "python",
   "nbconvert_exporter": "python",
   "pygments_lexer": "ipython3",
   "version": "3.6.4"
  }
 },
 "nbformat": 4,
 "nbformat_minor": 2
}
